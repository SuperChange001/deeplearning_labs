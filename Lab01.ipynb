{
  "cells": [
    {
      "cell_type": "markdown",
      "metadata": {
        "id": "YI5ZaJyNd19K"
      },
      "source": [
        "## Todo:\n",
        "Open in google colab -> [![Open In Colab](https://colab.research.google.com/assets/colab-badge.svg#left)](https://colab.research.google.com/github/SuperChange001/deeplearning_labs/blob/main/Lab01.ipynb)\n",
        "\n",
        "- [ ] Google Colab introduction\n",
        "- [ ] AI programming 101\n",
        "- [ ] setup the environment(e.g, install/import all packages that we need)\n",
        "- [ ] create your fist model\n",
        "- [ ] data preparation, prepare train/test set, visualize data\n",
        "- [ ] Train model, test model\n",
        "- [ ] Adding useful log info during training, and visualization for understanding the trained model(e.g confusion matrix)\n",
        "- [ ] tensor board(maybe)\n",
        "- [ ] Store/load the trained model"
      ]
    },
    {
      "cell_type": "code",
      "execution_count": null,
      "metadata": {
        "vscode": {
          "languageId": "plaintext"
        },
        "id": "UL372hPQd19O"
      },
      "outputs": [],
      "source": [
        "sss"
      ]
    }
  ],
  "metadata": {
    "language_info": {
      "name": "python"
    },
    "orig_nbformat": 4,
    "colab": {
      "name": "Lab01.ipynb",
      "provenance": [],
      "collapsed_sections": []
    }
  },
  "nbformat": 4,
  "nbformat_minor": 0
}