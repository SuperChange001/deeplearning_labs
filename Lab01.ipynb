{
 "cells": [
  {
   "cell_type": "markdown",
   "metadata": {},
   "source": [
    "## Todo:\n",
    "Open in google colab -> [![Open In Colab](https://colab.research.google.com/assets/colab-badge.svg#left)](https://colab.research.google.com/github/SuperChange001/CUDA_Learning/blob/main/Solution/Exercise_01.ipynb)\n",
    "\n",
    "- [ ] Google Colab introduction\n",
    "- [ ] AI programming 101\n",
    "- [ ] setup the environment(e.g, install/import all packages that we need)\n",
    "- [ ] create your fist model\n",
    "- [ ] data preparation, prepare train/test set, visualize data\n",
    "- [ ] Train model, test model\n",
    "- [ ] Adding useful log info during training, and visualization for understanding the trained model(e.g confusion matrix)\n",
    "- [ ] tensor board(maybe)\n",
    "- [ ] Store/load the trained model"
   ]
  },
  {
   "cell_type": "code",
   "execution_count": null,
   "metadata": {
    "vscode": {
     "languageId": "plaintext"
    }
   },
   "outputs": [],
   "source": []
  }
 ],
 "metadata": {
  "language_info": {
   "name": "python"
  },
  "orig_nbformat": 4
 },
 "nbformat": 4,
 "nbformat_minor": 2
}
